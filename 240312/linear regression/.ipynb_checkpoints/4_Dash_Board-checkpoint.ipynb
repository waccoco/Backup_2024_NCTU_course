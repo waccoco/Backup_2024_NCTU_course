{
 "cells": [
  {
   "cell_type": "markdown",
   "id": "deeeaf0a",
   "metadata": {},
   "source": [
    "## This notebook illustrates Dash Python "
   ]
  },
  {
   "cell_type": "code",
   "execution_count": 3,
   "id": "21b1b6f3",
   "metadata": {},
   "outputs": [
    {
     "data": {
      "text/html": [
       "\n",
       "        <iframe\n",
       "            width=\"100%\"\n",
       "            height=\"650\"\n",
       "            src=\"http://127.0.0.1:8051/\"\n",
       "            frameborder=\"0\"\n",
       "            allowfullscreen\n",
       "            \n",
       "        ></iframe>\n",
       "        "
      ],
      "text/plain": [
       "<IPython.lib.display.IFrame at 0x22822f8d5d0>"
      ]
     },
     "metadata": {},
     "output_type": "display_data"
    }
   ],
   "source": [
    "# !pip install dash\n",
    "from dash import Dash, dcc, html, Input, Output\n",
    "import plotly.express as px\n",
    "\n",
    "app = Dash(__name__)\n",
    "\n",
    "\n",
    "app.layout = html.Div([\n",
    "    html.H4('Interactive scatter plot with Iris dataset'),\n",
    "    dcc.Graph(id=\"scatter-plot\"),\n",
    "    html.P(\"Filter by petal width:\"),\n",
    "    dcc.RangeSlider(\n",
    "        id='range-slider',\n",
    "        min=0, max=2.5, step=0.1,\n",
    "        marks={0: '0', 2.5: '2.5'},\n",
    "        value=[0.5, 2]\n",
    "    ),\n",
    "])\n",
    "\n",
    "@app.callback(\n",
    "    Output(\"scatter-plot\", \"figure\"), \n",
    "    Input(\"range-slider\", \"value\"))\n",
    "def update_bar_chart(slider_range):\n",
    "    df = px.data.iris() # replace with your own data source\n",
    "    low, high = slider_range\n",
    "    mask = (df['petal_width'] > low) & (df['petal_width'] < high)\n",
    "#     mask = (df['EducationLevel'] > low) & (df['City'] < high)\n",
    "    fig = px.scatter(\n",
    "        df[mask], x=\"sepal_width\", y=\"sepal_length\", \n",
    "        color=\"species\", size='petal_length', \n",
    "        hover_data=['petal_width'])\n",
    "    return fig\n",
    "    \n",
    "# app.run_server(debug=True)\n",
    "app.run_server(debug=True, port=8051)\n"
   ]
  },
  {
   "cell_type": "markdown",
   "id": "2fb5a8f7",
   "metadata": {},
   "source": [
    "# 建立服務\n",
    "\n",
    "若設置的port=8051\n",
    "\n",
    "Dash伺服器在本地主機上運行UI http://localhost:8051/\n",
    "        \n",
    "其他裝置可以使用位址來訪問您的Dash應用程式  http://your_local_ip:8051/"
   ]
  },
  {
   "cell_type": "markdown",
   "id": "ada421c2",
   "metadata": {},
   "source": [
    "# Excercise : Please use the following URL to download the dataset and build a dash board.\n"
   ]
  },
  {
   "cell_type": "code",
   "execution_count": 5,
   "id": "e45e2ee4",
   "metadata": {},
   "outputs": [],
   "source": [
    "url = \"https://raw.githubusercontent.com/GrandmaCan/ML/main/Resgression/Salary_Data2.csv\"   # from ref. \n"
   ]
  },
  {
   "cell_type": "code",
   "execution_count": null,
   "id": "72bd14a0",
   "metadata": {},
   "outputs": [],
   "source": []
  }
 ],
 "metadata": {
  "kernelspec": {
   "display_name": "Python 3 (ipykernel)",
   "language": "python",
   "name": "python3"
  },
  "language_info": {
   "codemirror_mode": {
    "name": "ipython",
    "version": 3
   },
   "file_extension": ".py",
   "mimetype": "text/x-python",
   "name": "python",
   "nbconvert_exporter": "python",
   "pygments_lexer": "ipython3",
   "version": "3.11.5"
  }
 },
 "nbformat": 4,
 "nbformat_minor": 5
}

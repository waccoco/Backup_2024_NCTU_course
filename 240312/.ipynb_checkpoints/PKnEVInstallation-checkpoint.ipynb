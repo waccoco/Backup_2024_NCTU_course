{
 "cells": [
  {
   "cell_type": "markdown",
   "id": "3496da7b",
   "metadata": {},
   "source": [
    "## 環境與套件安裝說明\n",
    "\n",
    "1. 透過anaconda 建立\n",
    "\n",
    "2. 透過 console model 建立 $"
   ]
  },
  {
   "cell_type": "markdown",
   "id": "2d3e423f-82c1-437f-8ca8-5f1c10fdceee",
   "metadata": {},
   "source": [
    "## 環境建立\n",
    "\n",
    "!conda create --name env_name  #建立回境 #env_name 自行設置的環境名稱\n",
    "\n",
    "!conda activate env_name   #激活環境 \n",
    "\n",
    "!conda deactivate          #離開環境"
   ]
  },
  {
   "cell_type": "markdown",
   "id": "4156e81b-b540-4268-8b12-4830f7150525",
   "metadata": {},
   "source": [
    "## 套件安裝\n",
    "!conda install numpy\n",
    "\n",
    "!pip install numpy"
   ]
  },
  {
   "cell_type": "markdown",
   "id": "f2ea24a1-4c88-4f9d-9ada-d8d38cea5fdc",
   "metadata": {},
   "source": [
    "## 觀看已安裝套件\n",
    "!conda list\n",
    "\n",
    "!pip list"
   ]
  },
  {
   "cell_type": "markdown",
   "id": "c2036dba",
   "metadata": {
    "scrolled": true
   },
   "source": [
    "## 安裝tensorflow\n",
    "!conda install tensorflow"
   ]
  },
  {
   "cell_type": "code",
   "execution_count": null,
   "id": "ae7a0fe1",
   "metadata": {},
   "outputs": [],
   "source": []
  }
 ],
 "metadata": {
  "kernelspec": {
   "display_name": "Python 3 (ipykernel)",
   "language": "python",
   "name": "python3"
  },
  "language_info": {
   "codemirror_mode": {
    "name": "ipython",
    "version": 3
   },
   "file_extension": ".py",
   "mimetype": "text/x-python",
   "name": "python",
   "nbconvert_exporter": "python",
   "pygments_lexer": "ipython3",
   "version": "3.11.5"
  }
 },
 "nbformat": 4,
 "nbformat_minor": 5
}

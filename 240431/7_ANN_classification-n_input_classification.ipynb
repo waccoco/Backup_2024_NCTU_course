{
 "cells": [
  {
   "cell_type": "markdown",
   "id": "0bba3216-9612-4883-9c0d-7324f632cc39",
   "metadata": {},
   "source": [
    "## Data Preparation"
   ]
  },
  {
   "cell_type": "code",
   "execution_count": 1,
   "id": "096d770b-25b0-42a4-b3c2-d9cf6d8bf59f",
   "metadata": {
    "scrolled": true
   },
   "outputs": [
    {
     "data": {
      "text/html": [
       "<div>\n",
       "<style scoped>\n",
       "    .dataframe tbody tr th:only-of-type {\n",
       "        vertical-align: middle;\n",
       "    }\n",
       "\n",
       "    .dataframe tbody tr th {\n",
       "        vertical-align: top;\n",
       "    }\n",
       "\n",
       "    .dataframe thead th {\n",
       "        text-align: right;\n",
       "    }\n",
       "</style>\n",
       "<table border=\"1\" class=\"dataframe\">\n",
       "  <thead>\n",
       "    <tr style=\"text-align: right;\">\n",
       "      <th></th>\n",
       "      <th>YearsExperience</th>\n",
       "      <th>EducationLevel</th>\n",
       "      <th>City</th>\n",
       "      <th>Salary</th>\n",
       "    </tr>\n",
       "  </thead>\n",
       "  <tbody>\n",
       "    <tr>\n",
       "      <th>0</th>\n",
       "      <td>3.0</td>\n",
       "      <td>大學</td>\n",
       "      <td>城市A</td>\n",
       "      <td>45.9</td>\n",
       "    </tr>\n",
       "    <tr>\n",
       "      <th>1</th>\n",
       "      <td>7.8</td>\n",
       "      <td>碩士以上</td>\n",
       "      <td>城市C</td>\n",
       "      <td>80.5</td>\n",
       "    </tr>\n",
       "    <tr>\n",
       "      <th>2</th>\n",
       "      <td>2.3</td>\n",
       "      <td>高中以下</td>\n",
       "      <td>城市A</td>\n",
       "      <td>25.2</td>\n",
       "    </tr>\n",
       "    <tr>\n",
       "      <th>3</th>\n",
       "      <td>5.1</td>\n",
       "      <td>高中以下</td>\n",
       "      <td>城市A</td>\n",
       "      <td>30.4</td>\n",
       "    </tr>\n",
       "    <tr>\n",
       "      <th>4</th>\n",
       "      <td>10.0</td>\n",
       "      <td>碩士以上</td>\n",
       "      <td>城市B</td>\n",
       "      <td>65.7</td>\n",
       "    </tr>\n",
       "  </tbody>\n",
       "</table>\n",
       "</div>"
      ],
      "text/plain": [
       "   YearsExperience EducationLevel City  Salary\n",
       "0              3.0             大學  城市A    45.9\n",
       "1              7.8           碩士以上  城市C    80.5\n",
       "2              2.3           高中以下  城市A    25.2\n",
       "3              5.1           高中以下  城市A    30.4\n",
       "4             10.0           碩士以上  城市B    65.7"
      ]
     },
     "metadata": {},
     "output_type": "display_data"
    }
   ],
   "source": [
    "import pandas as pd\n",
    "\n",
    "output_path = './Salary_Data2.csv'\n",
    "path = output_path\n",
    "df = pd.read_csv(output_path)\n",
    "display(df.head())"
   ]
  },
  {
   "cell_type": "code",
   "execution_count": 2,
   "id": "b3c77fc9-ad63-4dfe-8c15-a8196c2913e0",
   "metadata": {},
   "outputs": [
    {
     "name": "stdout",
     "output_type": "stream",
     "text": [
      "<class 'pandas.core.frame.DataFrame'>\n",
      "RangeIndex: 36 entries, 0 to 35\n",
      "Data columns (total 4 columns):\n",
      " #   Column           Non-Null Count  Dtype  \n",
      "---  ------           --------------  -----  \n",
      " 0   YearsExperience  36 non-null     float64\n",
      " 1   EducationLevel   36 non-null     object \n",
      " 2   City             36 non-null     object \n",
      " 3   Salary           36 non-null     float64\n",
      "dtypes: float64(2), object(2)\n",
      "memory usage: 1.2+ KB\n"
     ]
    },
    {
     "data": {
      "text/html": [
       "<div>\n",
       "<style scoped>\n",
       "    .dataframe tbody tr th:only-of-type {\n",
       "        vertical-align: middle;\n",
       "    }\n",
       "\n",
       "    .dataframe tbody tr th {\n",
       "        vertical-align: top;\n",
       "    }\n",
       "\n",
       "    .dataframe thead th {\n",
       "        text-align: right;\n",
       "    }\n",
       "</style>\n",
       "<table border=\"1\" class=\"dataframe\">\n",
       "  <thead>\n",
       "    <tr style=\"text-align: right;\">\n",
       "      <th></th>\n",
       "      <th>YearsExperience</th>\n",
       "      <th>EducationLevel</th>\n",
       "      <th>City</th>\n",
       "      <th>Salary</th>\n",
       "    </tr>\n",
       "  </thead>\n",
       "  <tbody>\n",
       "    <tr>\n",
       "      <th>count</th>\n",
       "      <td>36.00</td>\n",
       "      <td>36</td>\n",
       "      <td>36</td>\n",
       "      <td>36.00</td>\n",
       "    </tr>\n",
       "    <tr>\n",
       "      <th>unique</th>\n",
       "      <td>NaN</td>\n",
       "      <td>3</td>\n",
       "      <td>3</td>\n",
       "      <td>NaN</td>\n",
       "    </tr>\n",
       "    <tr>\n",
       "      <th>top</th>\n",
       "      <td>NaN</td>\n",
       "      <td>碩士以上</td>\n",
       "      <td>城市A</td>\n",
       "      <td>NaN</td>\n",
       "    </tr>\n",
       "    <tr>\n",
       "      <th>freq</th>\n",
       "      <td>NaN</td>\n",
       "      <td>16</td>\n",
       "      <td>20</td>\n",
       "      <td>NaN</td>\n",
       "    </tr>\n",
       "    <tr>\n",
       "      <th>mean</th>\n",
       "      <td>5.47</td>\n",
       "      <td>NaN</td>\n",
       "      <td>NaN</td>\n",
       "      <td>51.70</td>\n",
       "    </tr>\n",
       "    <tr>\n",
       "      <th>std</th>\n",
       "      <td>2.71</td>\n",
       "      <td>NaN</td>\n",
       "      <td>NaN</td>\n",
       "      <td>17.53</td>\n",
       "    </tr>\n",
       "    <tr>\n",
       "      <th>min</th>\n",
       "      <td>1.20</td>\n",
       "      <td>NaN</td>\n",
       "      <td>NaN</td>\n",
       "      <td>24.90</td>\n",
       "    </tr>\n",
       "    <tr>\n",
       "      <th>25%</th>\n",
       "      <td>3.38</td>\n",
       "      <td>NaN</td>\n",
       "      <td>NaN</td>\n",
       "      <td>38.05</td>\n",
       "    </tr>\n",
       "    <tr>\n",
       "      <th>50%</th>\n",
       "      <td>5.15</td>\n",
       "      <td>NaN</td>\n",
       "      <td>NaN</td>\n",
       "      <td>49.20</td>\n",
       "    </tr>\n",
       "    <tr>\n",
       "      <th>75%</th>\n",
       "      <td>7.65</td>\n",
       "      <td>NaN</td>\n",
       "      <td>NaN</td>\n",
       "      <td>65.75</td>\n",
       "    </tr>\n",
       "    <tr>\n",
       "      <th>max</th>\n",
       "      <td>10.00</td>\n",
       "      <td>NaN</td>\n",
       "      <td>NaN</td>\n",
       "      <td>84.20</td>\n",
       "    </tr>\n",
       "  </tbody>\n",
       "</table>\n",
       "</div>"
      ],
      "text/plain": [
       "        YearsExperience EducationLevel City  Salary\n",
       "count             36.00             36   36   36.00\n",
       "unique              NaN              3    3     NaN\n",
       "top                 NaN           碩士以上  城市A     NaN\n",
       "freq                NaN             16   20     NaN\n",
       "mean               5.47            NaN  NaN   51.70\n",
       "std                2.71            NaN  NaN   17.53\n",
       "min                1.20            NaN  NaN   24.90\n",
       "25%                3.38            NaN  NaN   38.05\n",
       "50%                5.15            NaN  NaN   49.20\n",
       "75%                7.65            NaN  NaN   65.75\n",
       "max               10.00            NaN  NaN   84.20"
      ]
     },
     "execution_count": 2,
     "metadata": {},
     "output_type": "execute_result"
    }
   ],
   "source": [
    "# df.info()\n",
    "# df.describe(include='all').round(2)\n",
    "\n",
    "#round 函数在 Python（包括 Pandas 库中）的功能是对浮点数进行四舍五入到给定的精度。"
   ]
  },
  {
   "cell_type": "code",
   "execution_count": 4,
   "id": "244e1db7",
   "metadata": {},
   "outputs": [],
   "source": [
    "import numpy as np\n",
    "import pandas as pd\n",
    "import matplotlib.pyplot as plt\n",
    "from sklearn.model_selection import train_test_split\n",
    "from sklearn.preprocessing import OneHotEncoder, StandardScaler, LabelEncoder\n",
    "\n",
    "encoder = OneHotEncoder()\n",
    "city_encoded = encoder.fit_transform(df[['City']]).toarray()\n",
    "\n",
    "scaler = StandardScaler()\n",
    "scaled_features = scaler.fit_transform(df[['YearsExperience', 'Salary']])\n",
    "\n",
    "label_encoder = LabelEncoder()\n",
    "labels = label_encoder.fit_transform(df['EducationLevel'])\n",
    "\n",
    "x = np.hstack([scaled_features, city_encoded])\n",
    "y = labels\n",
    "# display(x.head(5))\n"
   ]
  },
  {
   "cell_type": "code",
   "execution_count": 5,
   "id": "af8a50bb-67aa-41e0-b396-5a1df3f29bc5",
   "metadata": {},
   "outputs": [
    {
     "data": {
      "text/plain": [
       "array([0, 1, 2, 2, 1, 1, 0, 1, 0, 2, 2, 0, 1, 1, 1, 0, 1, 0, 2, 2, 0, 1,\n",
       "       1, 1, 0, 1, 0, 2, 2, 0, 1, 1, 1, 0, 1, 0])"
      ]
     },
     "metadata": {},
     "output_type": "display_data"
    }
   ],
   "source": [
    "display(y)"
   ]
  },
  {
   "cell_type": "code",
   "execution_count": 6,
   "id": "d8e88361-09b6-4dc8-a72a-32ee4e6f8af3",
   "metadata": {
    "scrolled": true
   },
   "outputs": [],
   "source": [
    "# splitting dataset to training set and testing set \n",
    "x_train, x_test, y_train, y_test = train_test_split(x, y, test_size=0.2, random_state=200)"
   ]
  },
  {
   "cell_type": "markdown",
   "id": "f35ab7a6-2523-4b2b-9d8b-f5cb0eb2cf64",
   "metadata": {},
   "source": [
    "##  data visualization\n"
   ]
  },
  {
   "cell_type": "markdown",
   "id": "699a7ed0-646b-4751-9701-07372c23c458",
   "metadata": {},
   "source": [
    "## Build ANN model"
   ]
  },
  {
   "cell_type": "code",
   "execution_count": 7,
   "id": "6f8804c5-293b-474e-a56c-98b6b0b26ae8",
   "metadata": {},
   "outputs": [],
   "source": [
    "import tensorflow as tf\n",
    "from tensorflow.keras.models import Sequential\n",
    "from tensorflow.keras.layers import Dense\n",
    "from tensorflow.keras.optimizers import Adam\n",
    "\n",
    "# model = Sequential([\n",
    "    # Dense(1, input_shape=(1,), activation='linear')\n",
    "#     Dense(5, input_shape=(x.shape[1],), activation='linear')\n",
    "# ])\n",
    "\n",
    "model = Sequential([\n",
    "    Dense(8, input_shape=(x.shape[1],), activation='relu'),\n",
    "    Dense(6, activation='relu'),\n",
    "    Dense(3, activation='softmax')\n",
    "])\n",
    "\n",
    "# Sequential.help\n",
    "\n",
    "model.compile(optimizer=Adam(learning_rate=0.005), loss='sparse_categorical_crossentropy', metrics=['accuracy'])\n"
   ]
  },
  {
   "cell_type": "markdown",
   "id": "11adfe4e-adae-41d7-992b-8c04b7a80e99",
   "metadata": {},
   "source": [
    "## Training ANN model"
   ]
  },
  {
   "cell_type": "code",
   "execution_count": 10,
   "id": "5b071fe6-1d93-45aa-be58-dc737686916b",
   "metadata": {
    "scrolled": true
   },
   "outputs": [
    {
     "name": "stdout",
     "output_type": "stream",
     "text": [
      "Epoch 1/20\n",
      "11/11 [==============================] - 1s 38ms/step - loss: 1.1900 - accuracy: 0.3182 - val_loss: 1.1364 - val_accuracy: 0.3333\n",
      "Epoch 2/20\n",
      "11/11 [==============================] - 0s 10ms/step - loss: 1.0999 - accuracy: 0.3182 - val_loss: 1.0937 - val_accuracy: 0.1667\n",
      "Epoch 3/20\n",
      "11/11 [==============================] - 0s 8ms/step - loss: 1.0367 - accuracy: 0.4091 - val_loss: 1.0126 - val_accuracy: 0.5000\n",
      "Epoch 4/20\n",
      "11/11 [==============================] - 0s 8ms/step - loss: 0.9632 - accuracy: 0.5455 - val_loss: 0.9378 - val_accuracy: 0.5000\n",
      "Epoch 5/20\n",
      "11/11 [==============================] - 0s 9ms/step - loss: 0.8961 - accuracy: 0.7727 - val_loss: 0.8363 - val_accuracy: 0.8333\n",
      "Epoch 6/20\n",
      "11/11 [==============================] - 0s 9ms/step - loss: 0.8305 - accuracy: 0.8636 - val_loss: 0.7291 - val_accuracy: 0.8333\n",
      "Epoch 7/20\n",
      "11/11 [==============================] - 0s 10ms/step - loss: 0.7453 - accuracy: 0.9091 - val_loss: 0.6212 - val_accuracy: 0.8333\n",
      "Epoch 8/20\n",
      "11/11 [==============================] - 0s 8ms/step - loss: 0.6588 - accuracy: 1.0000 - val_loss: 0.5396 - val_accuracy: 0.8333\n",
      "Epoch 9/20\n",
      "11/11 [==============================] - 0s 9ms/step - loss: 0.5831 - accuracy: 0.9545 - val_loss: 0.4546 - val_accuracy: 0.8333\n",
      "Epoch 10/20\n",
      "11/11 [==============================] - 0s 9ms/step - loss: 0.5123 - accuracy: 1.0000 - val_loss: 0.3941 - val_accuracy: 0.8333\n",
      "Epoch 11/20\n",
      "11/11 [==============================] - 0s 8ms/step - loss: 0.4605 - accuracy: 1.0000 - val_loss: 0.3363 - val_accuracy: 0.8333\n",
      "Epoch 12/20\n",
      "11/11 [==============================] - 0s 8ms/step - loss: 0.4135 - accuracy: 1.0000 - val_loss: 0.3351 - val_accuracy: 0.6667\n",
      "Epoch 13/20\n",
      "11/11 [==============================] - 0s 8ms/step - loss: 0.3629 - accuracy: 0.9545 - val_loss: 0.3054 - val_accuracy: 0.6667\n",
      "Epoch 14/20\n",
      "11/11 [==============================] - 0s 8ms/step - loss: 0.3280 - accuracy: 0.9545 - val_loss: 0.2627 - val_accuracy: 0.8333\n",
      "Epoch 15/20\n",
      "11/11 [==============================] - 0s 7ms/step - loss: 0.2986 - accuracy: 0.9545 - val_loss: 0.2364 - val_accuracy: 1.0000\n",
      "Epoch 16/20\n",
      "11/11 [==============================] - 0s 9ms/step - loss: 0.2721 - accuracy: 0.9545 - val_loss: 0.2371 - val_accuracy: 0.8333\n",
      "Epoch 17/20\n",
      "11/11 [==============================] - 0s 9ms/step - loss: 0.2540 - accuracy: 0.9545 - val_loss: 0.2354 - val_accuracy: 0.8333\n",
      "Epoch 18/20\n",
      "11/11 [==============================] - 0s 8ms/step - loss: 0.2337 - accuracy: 0.9545 - val_loss: 0.2176 - val_accuracy: 0.8333\n",
      "Epoch 19/20\n",
      "11/11 [==============================] - 0s 8ms/step - loss: 0.2379 - accuracy: 0.9545 - val_loss: 0.1626 - val_accuracy: 1.0000\n",
      "Epoch 20/20\n",
      "11/11 [==============================] - 0s 9ms/step - loss: 0.2027 - accuracy: 1.0000 - val_loss: 0.1805 - val_accuracy: 1.0000\n"
     ]
    }
   ],
   "source": [
    "from tensorflow.keras.callbacks import EarlyStopping\n",
    "\n",
    "# early_stop = EarlyStopping(monitor='val_loss', patience=3, restore_best_weights=True)\n",
    "history = model.fit(x_train, y_train, validation_split=0.2, epochs=20, batch_size=2)"
   ]
  },
  {
   "cell_type": "markdown",
   "id": "48b2dd6c-ed84-4189-9168-5d2a5cbb9539",
   "metadata": {},
   "source": [
    "## Model evaluation"
   ]
  },
  {
   "cell_type": "code",
   "execution_count": 11,
   "id": "439c31c0-a820-47f1-9150-98facf6c74ea",
   "metadata": {},
   "outputs": [
    {
     "data": {
      "text/plain": [
       "[1.189976453781128,\n",
       " 1.0999351739883423,\n",
       " 1.0366697311401367,\n",
       " 0.9631728529930115,\n",
       " 0.8961309194564819,\n",
       " 0.8305330872535706,\n",
       " 0.7452528476715088,\n",
       " 0.6588211059570312,\n",
       " 0.583114504814148,\n",
       " 0.5122808218002319]"
      ]
     },
     "execution_count": 11,
     "metadata": {},
     "output_type": "execute_result"
    }
   ],
   "source": [
    "history.history['loss'][:10]"
   ]
  },
  {
   "cell_type": "code",
   "execution_count": 12,
   "id": "306987cc-1229-42e9-aa50-cfeee71af07c",
   "metadata": {},
   "outputs": [
    {
     "name": "stdout",
     "output_type": "stream",
     "text": [
      "1/1 [==============================] - 0s 124ms/step - loss: 0.1740 - accuracy: 1.0000\n"
     ]
    },
    {
     "data": {
      "image/png": "[encoded data removed]",
      "text/plain": [
       "<Figure size 640x480 with 1 Axes>"
      ]
     },
     "metadata": {},
     "output_type": "display_data"
    }
   ],
   "source": [
    "# model.evaluate(x_test, y_test)\n",
    "loss = model.evaluate(x_test, y_test)\n",
    "\n",
    "# 繪製訓練歷史\n",
    "plt.plot(history.history['loss'][10:], label='Training loss')\n",
    "plt.plot(history.history['val_loss'][10:], label='Validation loss')\n",
    "plt.legend()\n",
    "plt.show()"
   ]
  },
  {
   "cell_type": "code",
   "execution_count": 13,
   "id": "a7f4704e-c04f-4647-8558-46b10480629b",
   "metadata": {},
   "outputs": [
    {
     "name": "stdout",
     "output_type": "stream",
     "text": [
      "1/1 [==============================] - 0s 40ms/step - loss: 0.1740 - accuracy: 1.0000\n",
      "Accuracy: 100.0%\n"
     ]
    }
   ],
   "source": [
    "loss, accuracy = model.evaluate(x_test, y_test)\n",
    "print(f'Accuracy: {accuracy*100}%')\n"
   ]
  },
  {
   "cell_type": "code",
   "execution_count": 14,
   "id": "8d6f3180-1f9c-46ad-912d-f13816571f71",
   "metadata": {},
   "outputs": [
    {
     "name": "stdout",
     "output_type": "stream",
     "text": [
      "1/1 [==============================] - 0s 100ms/step\n",
      "[[1.4495860e-01 8.5298479e-01 2.0566697e-03]\n",
      " [6.0790366e-01 5.5324711e-02 3.3677161e-01]\n",
      " [4.9959026e-02 9.4826669e-01 1.7743030e-03]\n",
      " [9.5438308e-01 2.3055820e-02 2.2560943e-02]\n",
      " [7.2782534e-01 4.0480327e-02 2.3169428e-01]\n",
      " [8.0116522e-03 9.9165195e-01 3.3648690e-04]\n",
      " [8.0935940e-02 9.1809618e-01 9.6779637e-04]\n",
      " [1.9630960e-01 4.5672697e-03 7.9912305e-01]] [1 0 1 0 0 1 1 2]\n"
     ]
    }
   ],
   "source": [
    "y_pred = model.predict(x_test)\n",
    "print((y_pred),(y_test))"
   ]
  },
  {
   "cell_type": "code",
   "execution_count": 15,
   "id": "13fba16a-a1da-4bcf-bb33-97c52877c26a",
   "metadata": {},
   "outputs": [
    {
     "name": "stdout",
     "output_type": "stream",
     "text": [
      "1/1 [==============================] - 0s 30ms/step\n"
     ]
    },
    {
     "data": {
      "image/png": "[encoded data removed]",
      "text/plain": [
       "<Figure size 500x500 with 1 Axes>"
      ]
     },
     "metadata": {},
     "output_type": "display_data"
    },
    {
     "name": "stdout",
     "output_type": "stream",
     "text": [
      "1/1 [==============================] - 0s 23ms/step\n"
     ]
    },
    {
     "data": {
      "image/png": "[encoded data removed]",
      "text/plain": [
       "<Figure size 500x500 with 1 Axes>"
      ]
     },
     "metadata": {},
     "output_type": "display_data"
    }
   ],
   "source": [
    "def plot_scatter (x, y, title, x_label, y_label,n):\n",
    "    # plt.subplot(2, 2, n);\n",
    "    plt.figure(figsize=(5, 5));\n",
    "    plt.scatter(x, y, marker=\"x\", color=\"red\")\n",
    "    # plt.axis((0,210, 0,210))\n",
    "    plt.title(title)\n",
    "    plt.xlabel(x_label)\n",
    "    plt.ylabel(y_label)\n",
    "    plt.show()\n",
    "\n",
    "y_pred = model.predict(x_test)\n",
    "y_pred = np.argmax(y_pred, axis=1)\n",
    "\n",
    "\n",
    "plot_scatter(y_test, y_pred, \"Testing set\", \"True value\", \"Pred. value\",1)\n",
    "\n",
    "y_pred = model.predict(x_train)\n",
    "y_pred = np.argmax(y_pred, axis=1)\n",
    "\n",
    "plot_scatter(y_train, y_pred, \"Training set\", \"True value\", \"Pred. value\",2)\n"
   ]
  },
  {
   "cell_type": "code",
   "execution_count": 16,
   "id": "bbee0721-e8a3-4e06-a6f0-b8e95b599c3b",
   "metadata": {},
   "outputs": [
    {
     "name": "stdout",
     "output_type": "stream",
     "text": [
      "1/1 [==============================] - 0s 21ms/step\n",
      "Confusion Matrix:\n",
      "[[ 8  0  1]\n",
      " [ 0 12  0]\n",
      " [ 0  0  7]]\n"
     ]
    }
   ],
   "source": [
    "from sklearn.metrics import confusion_matrix\n",
    "\n",
    "y_pred = model.predict(x_train)\n",
    "y_pred = np.argmax(y_pred, axis=1)\n",
    "cm = confusion_matrix(y_train, y_pred)\n",
    "\n",
    "# 打印混淆矩陣\n",
    "print(\"Confusion Matrix:\")\n",
    "print(cm)"
   ]
  },
  {
   "cell_type": "code",
   "execution_count": 17,
   "id": "99410baf-01c3-4239-a4f0-f0e9662a434a",
   "metadata": {},
   "outputs": [
    {
     "data": {
      "image/png": "[encoded data removed]",
      "text/plain": [
       "<Figure size 800x600 with 2 Axes>"
      ]
     },
     "metadata": {},
     "output_type": "display_data"
    }
   ],
   "source": [
    "import matplotlib.pyplot as plt\n",
    "import seaborn as sns\n",
    "\n",
    "# 繪製混淆矩陣的熱圖\n",
    "plt.figure(figsize=(8, 6))\n",
    "sns.heatmap(cm, annot=True, fmt=\"d\", cmap=\"Blues\")\n",
    "plt.xlabel('Predicted Label')\n",
    "plt.ylabel('True Label')\n",
    "plt.title('Confusion Matrix')\n",
    "plt.show()"
   ]
  },
  {
   "cell_type": "code",
   "execution_count": null,
   "id": "b829c245-e481-4990-a3c3-aa4ee9cbc650",
   "metadata": {},
   "outputs": [],
   "source": []
  }
 ],
 "metadata": {
  "kernelspec": {
   "display_name": "Python 3 (ipykernel)",
   "language": "python",
   "name": "python3"
  },
  "language_info": {
   "codemirror_mode": {
    "name": "ipython",
    "version": 3
   },
   "file_extension": ".py",
   "mimetype": "text/x-python",
   "name": "python",
   "nbconvert_exporter": "python",
   "pygments_lexer": "ipython3",
   "version": "3.9.18"
  }
 },
 "nbformat": 4,
 "nbformat_minor": 5
}
